{
 "cells": [
  {
   "cell_type": "code",
   "execution_count": 3,
   "id": "1d5bff5f",
   "metadata": {},
   "outputs": [
    {
     "name": "stdout",
     "output_type": "stream",
     "text": [
      "Collecting opencv-python\n",
      "  Downloading opencv_python-4.5.5.64-cp36-abi3-win_amd64.whl (35.4 MB)\n",
      "Requirement already satisfied: numpy>=1.14.5 in c:\\programdata\\anaconda3\\lib\\site-packages (from opencv-python) (1.20.3)\n",
      "Installing collected packages: opencv-python\n",
      "Successfully installed opencv-python-4.5.5.64\n"
     ]
    }
   ],
   "source": [
    "!pip install opencv-python"
   ]
  },
  {
   "cell_type": "code",
   "execution_count": null,
   "id": "8eb56271",
   "metadata": {},
   "outputs": [],
   "source": [
    "!pip install numpy"
   ]
  },
  {
   "cell_type": "code",
   "execution_count": 5,
   "id": "05bff513",
   "metadata": {},
   "outputs": [
    {
     "name": "stdout",
     "output_type": "stream",
     "text": [
      "Collecting pygame\n",
      "  Downloading pygame-2.1.2-cp39-cp39-win_amd64.whl (8.4 MB)\n",
      "Installing collected packages: pygame\n",
      "Successfully installed pygame-2.1.2\n"
     ]
    }
   ],
   "source": [
    "!pip install pygame\n"
   ]
  },
  {
   "cell_type": "code",
   "execution_count": 1,
   "id": "2c26edf8",
   "metadata": {},
   "outputs": [
    {
     "name": "stdout",
     "output_type": "stream",
     "text": [
      "pygame 2.1.2 (SDL 2.0.18, Python 3.9.7)\n",
      "Hello from the pygame community. https://www.pygame.org/contribute.html\n"
     ]
    }
   ],
   "source": [
    "import cv2\n",
    "import tensorflow as tf\n",
    "from tensorflow.keras.models import load_model\n",
    "import numpy as np\n",
    "from pygame import mixer"
   ]
  },
  {
   "cell_type": "markdown",
   "id": "1746e271",
   "metadata": {},
   "source": [
    "## Loding or using the haar-Cascade Classifier for face and eye detection"
   ]
  },
  {
   "cell_type": "code",
   "execution_count": 2,
   "id": "0c776e9b",
   "metadata": {},
   "outputs": [],
   "source": [
    "face_cascade = cv2.CascadeClassifier(cv2.data.haarcascades + 'haarcascade_frontalcatface.xml')\n",
    "eye_cascade = cv2.CascadeClassifier(cv2.data.haarcascades + 'haarcascade_eye.xml')"
   ]
  },
  {
   "cell_type": "markdown",
   "id": "ec36903f",
   "metadata": {},
   "source": [
    "## Loading the transfer learning Model"
   ]
  },
  {
   "cell_type": "code",
   "execution_count": null,
   "id": "0a672957",
   "metadata": {},
   "outputs": [],
   "source": [
    "# press Q for exit from the frame"
   ]
  },
  {
   "cell_type": "code",
   "execution_count": 7,
   "id": "29d5d37f",
   "metadata": {},
   "outputs": [],
   "source": [
    "model = load_model(r'\\model.h5')"
   ]
  },
  {
   "cell_type": "code",
   "execution_count": null,
   "id": "c97f0110",
   "metadata": {},
   "outputs": [],
   "source": [
    "cap = cv2.VideoCapture(0) # can put the path of video\n",
    "while True:\n",
    "    ret, frame = cap.read()\n",
    "    height , width = frame.shape[0:2] \n",
    "    \n",
    "    gray = cv2.cvtColor(frame, cv2.COLOR_BGR2GRAY) # opencv reads anything in bgr and onvert to gray\n",
    "    faces = face_cascade.detectMultiScale(gray, scaleFactor = 1.2, minNeighbors = 2) # it will return me four co-ordinates (fx,fy,fw,fh) of face\n",
    "    eyes = eye_cascade.detectMultiScale(gray, scaleFactor = 1.2, minNeighbors = 3) # # it will return me four co-ordinates (ex,ey,ew,eh) of eyes\n",
    "    \n",
    "    # TO DRAW BLACK BOX FOR PRINTING PERCENTAGES OF EYES OPEN\n",
    "    cv2.rectangle(frame, (0,height-50), (200,height), (0,0,0), thickness = cv2.FILLED)\n",
    "    \n",
    "    # for drawing the rectangle\n",
    "    for (fx,fy,fw,fh) in faces:\n",
    "        cv2.rectangle(frame, pt1 = (fx,fy), pt2 = (fx+fw, fy+fh) ,color = (2550,0,0), thickness = 3)\n",
    "        \n",
    "    for (ex,ey,ew,eh) in eyes:\n",
    "        cv2.rectangle(frame, pt1 = (ex,ey), pt2 = (ex+ew, ey+eh) ,color = (2550,0,0), thickness = 3)\n",
    "        # preprocessing steps\n",
    "        eye = frame[ey: ey + eh, ex: ex + ew] # to prepare your own dataset\n",
    "        eye = cv2.resize(eye, (80,80)) \n",
    "        eye = eye/255 # to convert to rgb\n",
    "        eye = eye.reshape(80,80,3)\n",
    "        eye = np.expand_dims(eye,axis = 0)\n",
    "        # preprocessing over now prediction\n",
    "        prediction = model.predict(eye)\n",
    "        print(prediction)\n",
    "        \n",
    "    cv2.imshow('frame', frame)\n",
    "    if cv2.waitKey(50) & 0xFF == ord('q'): # if i press Q then stop the infinite loop\n",
    "        break\n",
    "        \n",
    "cap.release()\n",
    "cv2.destroyAllWindows()"
   ]
  }
 ],
 "metadata": {
  "kernelspec": {
   "display_name": "Python 3.8.2 32-bit",
   "language": "python",
   "name": "python3"
  },
  "language_info": {
   "codemirror_mode": {
    "name": "ipython",
    "version": 3
   },
   "file_extension": ".py",
   "mimetype": "text/x-python",
   "name": "python",
   "nbconvert_exporter": "python",
   "pygments_lexer": "ipython3",
   "version": "3.8.2"
  },
  "vscode": {
   "interpreter": {
    "hash": "366c01f8a26257352ed329c8bc3dae6d7d9b4ae057add0b99606826700d03e46"
   }
  }
 },
 "nbformat": 4,
 "nbformat_minor": 5
}
