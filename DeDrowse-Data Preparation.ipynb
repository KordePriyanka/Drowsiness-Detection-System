{
 "cells": [
  {
   "cell_type": "markdown",
   "id": "2d3bffed",
   "metadata": {},
   "source": [
    "# Data Preparation"
   ]
  },
  {
   "cell_type": "markdown",
   "id": "2eadce5f",
   "metadata": {},
   "source": [
    "## Dataset link: \n",
    "http://mrl.cs.vsb.cz/eyedataset \n",
    "\n",
    "## Dataset Description:\n",
    "subject ID:\n",
    "xxx\n",
    "\n",
    "image number:\n",
    "xxx\n",
    "\n",
    "gender:\n",
    "0 - male\n",
    "1 - famale\n",
    "\n",
    "glasses:\n",
    "0 - no\n",
    "1 - yes\n",
    "\n",
    "eye state:\n",
    "0 - close\n",
    "1 - open\n",
    "\n",
    "reflections:\n",
    "0 - none\n",
    "1 - low\n",
    "2 - high\n",
    "\n",
    "lighting conditions/image quality:\n",
    "0 - bad\n",
    "1 - good\n",
    "\n",
    "sensor type:\n",
    "01 - RealSense SR300 640x480\n",
    "02 - IDS Imaging, 1280x1024\n",
    "03 - Aptina Imagin 752x480\n",
    "\n",
    "example:\n",
    "s001_00123_0_0_0_0_0_01.png\n",
    "\n",
    "## Detailed explanation of dataset:\n",
    "\n",
    "In the dataset, we annotated the following properties (the properties are indicated in the following order):\n",
    "\n",
    "subject ID; in the dataset, we collected the data of 37 different persons (33 men and 4 women)\n",
    "\n",
    "image ID; the dataset consists of 84,898 images\n",
    "\n",
    "gender [0 - man, 1 - woman]; the dataset contains the information about gender for each image (man, woman)\n",
    "\n",
    "glasses [0 - no, 1 - yes]; the information if the eye image contains glasses is also provided for each image (with and without the glasses)\n",
    "\n",
    "eye state [0 - closed, 1 - open]; this property contains the information about two eye states (open, close)\n",
    "\n",
    "reflections [0 - none, 1 - small, 2 - big]; we annotated three reflection states based on the size of reflections (none, small, and big reflections)\n",
    "\n",
    "lighting conditions [0 - bad, 1 - good]; each image has two states (bad, good) based on the amount of light during capturing the videos\n",
    "\n",
    "sensor ID [01 - RealSense, 02 - IDS, 03 - Aptina]; at this moment, the dataset contains the images captured by three different sensors (Intel RealSense RS 300 sensor with 640 x 480 resolution, IDS Imaging sensor with 1280 x 1024 resolution, and Aptina sensor with 752 x 480 resolution)\n",
    "\n",
    "example:\n",
    "s001_00123_0_0_0_0_0_01.png\n",
    "\n",
    "## Data preparation Description\n",
    "The most important features to differentiate between a eye been opened or closed is its eye state so at 4th index of file name eye state is present so affording to eye state puting the images in folders close_eye and open_eye.\n",
    "Further splitting the dataset of open eyes and close eyes in Train & Test sets"
   ]
  },
  {
   "cell_type": "code",
   "execution_count": 1,
   "id": "f10d598f",
   "metadata": {},
   "outputs": [],
   "source": [
    "## Importing modules\n",
    "import os\n",
    "import shutil # for progress bar\n",
    "import glob\n",
    "from tqdm import tqdm"
   ]
  },
  {
   "cell_type": "code",
   "execution_count": 12,
   "id": "09d34c12",
   "metadata": {
    "scrolled": true
   },
   "outputs": [
    {
     "name": "stderr",
     "output_type": "stream",
     "text": [
      "0it [00:00, ?it/s]\n",
      "100%|██████████| 3242/3242 [00:28<00:00, 112.18it/s]\n",
      "100%|██████████| 1114/1114 [00:10<00:00, 111.06it/s]\n",
      "100%|██████████| 679/679 [00:05<00:00, 120.28it/s]\n",
      "100%|██████████| 1069/1069 [00:10<00:00, 104.27it/s]\n",
      "100%|██████████| 736/736 [00:06<00:00, 113.97it/s]\n",
      "100%|██████████| 1012/1012 [00:08<00:00, 123.12it/s]\n",
      "100%|██████████| 624/624 [00:05<00:00, 119.91it/s]\n",
      "100%|██████████| 832/832 [00:07<00:00, 113.35it/s]\n",
      "100%|██████████| 387/387 [00:03<00:00, 108.92it/s]\n",
      "100%|██████████| 399/399 [00:04<00:00, 93.30it/s] \n",
      "100%|██████████| 1648/1648 [00:14<00:00, 110.46it/s]\n",
      "100%|██████████| 8728/8728 [01:20<00:00, 108.49it/s]\n",
      "100%|██████████| 3605/3605 [00:35<00:00, 101.23it/s]\n",
      "100%|██████████| 8884/8884 [01:28<00:00, 100.31it/s]\n",
      "100%|██████████| 1132/1132 [00:12<00:00, 87.74it/s]\n",
      "100%|██████████| 1889/1889 [00:17<00:00, 110.77it/s]\n",
      "100%|██████████| 1648/1648 [00:13<00:00, 123.15it/s]\n",
      "100%|██████████| 4410/4410 [00:43<00:00, 101.43it/s]\n",
      "100%|██████████| 6175/6175 [00:45<00:00, 135.70it/s]\n",
      "100%|██████████| 704/704 [00:04<00:00, 152.51it/s]\n",
      "100%|██████████| 987/987 [00:07<00:00, 140.53it/s]\n",
      "100%|██████████| 382/382 [00:02<00:00, 155.24it/s]\n",
      "100%|██████████| 522/522 [00:03<00:00, 146.46it/s]\n",
      "100%|██████████| 752/752 [00:05<00:00, 135.55it/s]\n",
      "100%|██████████| 1502/1502 [00:10<00:00, 148.98it/s]\n",
      "100%|██████████| 1246/1246 [00:09<00:00, 130.82it/s]\n",
      "100%|██████████| 665/665 [00:04<00:00, 135.81it/s]\n",
      "100%|██████████| 736/736 [00:05<00:00, 143.44it/s]\n",
      "100%|██████████| 1393/1393 [00:09<00:00, 144.67it/s]\n",
      "100%|██████████| 1384/1384 [00:09<00:00, 146.02it/s]\n",
      "100%|██████████| 1738/1738 [00:11<00:00, 146.05it/s]\n",
      "100%|██████████| 6162/6162 [00:40<00:00, 152.71it/s]\n",
      "100%|██████████| 681/681 [00:05<00:00, 130.05it/s]\n",
      "100%|██████████| 739/739 [00:05<00:00, 128.45it/s]\n",
      "100%|██████████| 642/642 [00:04<00:00, 137.46it/s]\n",
      "100%|██████████| 6193/6193 [00:42<00:00, 144.63it/s]\n",
      "100%|██████████| 10257/10257 [01:14<00:00, 137.36it/s]\n"
     ]
    }
   ],
   "source": [
    "RAW_DIR = r'E:\\Drowsiness Detection project\\dataset'\n",
    "for dirpath, dirname, filenames in os.walk(RAW_DIR):\n",
    "    for i in tqdm([f for f in filenames if f.endswith('.png')]):\n",
    "        if i.split('_')[4] == '0':\n",
    "            shutil.copy(src=dirpath+'/'+i, dst = r'E:\\Drowsiness Detection project\\data\\close_eyes')\n",
    "        elif i.split('_')[4] == '1':\n",
    "            shutil.copy(src=dirpath+'/'+i, dst = r'E:\\Drowsiness Detection project\\data\\open_eyes')\n",
    "            "
   ]
  },
  {
   "cell_type": "markdown",
   "id": "2a516a85",
   "metadata": {},
   "source": [
    "### Explanation of above functions:"
   ]
  },
  {
   "cell_type": "code",
   "execution_count": 7,
   "id": "10a306ac",
   "metadata": {},
   "outputs": [],
   "source": [
    "# i -> s0001_00001_0_0_0_0_0_01.png "
   ]
  },
  {
   "cell_type": "code",
   "execution_count": 10,
   "id": "101cd4cf",
   "metadata": {},
   "outputs": [
    {
     "data": {
      "text/plain": [
       "['s0001', '00001', '0', '0', '0', '0', '0', '01.png']"
      ]
     },
     "execution_count": 10,
     "metadata": {},
     "output_type": "execute_result"
    }
   ],
   "source": [
    "str = 's0001_00001_0_0_0_0_0_01.png'\n",
    "str.split('_')"
   ]
  },
  {
   "cell_type": "code",
   "execution_count": 11,
   "id": "ce6f5427",
   "metadata": {},
   "outputs": [
    {
     "data": {
      "text/plain": [
       "'0'"
      ]
     },
     "execution_count": 11,
     "metadata": {},
     "output_type": "execute_result"
    }
   ],
   "source": [
    "str.split('_')[4] # 0 means close eyes and 1 means open eyes"
   ]
  }
 ],
 "metadata": {
  "kernelspec": {
   "display_name": "Python 3.8.2 32-bit",
   "language": "python",
   "name": "python3"
  },
  "language_info": {
   "codemirror_mode": {
    "name": "ipython",
    "version": 3
   },
   "file_extension": ".py",
   "mimetype": "text/x-python",
   "name": "python",
   "nbconvert_exporter": "python",
   "pygments_lexer": "ipython3",
   "version": "3.8.2"
  },
  "vscode": {
   "interpreter": {
    "hash": "366c01f8a26257352ed329c8bc3dae6d7d9b4ae057add0b99606826700d03e46"
   }
  }
 },
 "nbformat": 4,
 "nbformat_minor": 5
}
